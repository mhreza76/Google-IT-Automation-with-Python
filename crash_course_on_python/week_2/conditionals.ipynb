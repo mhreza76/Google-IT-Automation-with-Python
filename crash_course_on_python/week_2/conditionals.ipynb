{
 "cells": [
  {
   "cell_type": "markdown",
   "id": "04db3507",
   "metadata": {},
   "source": [
    "## Practice Quiz: Conditionals"
   ]
  },
  {
   "cell_type": "markdown",
   "id": "fc848ca7",
   "metadata": {},
   "source": [
    "**Problem 1:** Complete the script by filling in the missing parts. The function receives a name, then returns a greeting based on whether or not that name is \"Taylor\"."
   ]
  },
  {
   "cell_type": "code",
   "execution_count": 1,
   "id": "6598a31a",
   "metadata": {},
   "outputs": [
    {
     "name": "stdout",
     "output_type": "stream",
     "text": [
      "Welcome back Taylor!\n",
      "Hello there, John\n"
     ]
    }
   ],
   "source": [
    "def greeting(name):\n",
    "  if name == \"Taylor\":\n",
    "    return \"Welcome back Taylor!\"\n",
    "  else:\n",
    "    return \"Hello there, \" + name\n",
    "\n",
    "print(greeting(\"Taylor\"))\n",
    "print(greeting(\"John\"))"
   ]
  },
  {
   "cell_type": "markdown",
   "id": "10f4377c",
   "metadata": {},
   "source": [
    "**Problem 2:** What’s the output of this code if number equals 10?\n",
    "\n"
   ]
  },
  {
   "cell_type": "code",
   "execution_count": 3,
   "id": "adf45a48",
   "metadata": {},
   "outputs": [
    {
     "name": "stdout",
     "output_type": "stream",
     "text": [
      "2\n"
     ]
    }
   ],
   "source": [
    "number = 10\n",
    "if number > 11: \n",
    "  print(0)\n",
    "elif number != 10:\n",
    "  print(1)\n",
    "elif number >= 20 or number < 12:\n",
    "  print(2)\n",
    "else:\n",
    "  print(3)"
   ]
  },
  {
   "cell_type": "markdown",
   "id": "af892ce0",
   "metadata": {},
   "source": [
    "**Problem 3:** Is \"A dog\" smaller or larger than \"A mouse\"? Is 9999+8888 smaller or larger than 100*100? Replace the plus sign in the following code to let Python check it for you and then answer. "
   ]
  },
  {
   "cell_type": "code",
   "execution_count": 4,
   "id": "616a3491",
   "metadata": {},
   "outputs": [
    {
     "name": "stdout",
     "output_type": "stream",
     "text": [
      "\"A dog\" is smaller than \"A mouse\" and 9999+8888 is larger than 100*100s\n"
     ]
    }
   ],
   "source": [
    "if len(\"A dog\")>len(\"A mouse\") and (9999+8888) > 100*100:\n",
    "    print(\"\\\"A dog\\\" is larger than \\\"A mouse\\\" and 9999+8888 is larger than 100*100s\")\n",
    "elif len(\"A dog\")<len(\"A mouse\") and (9999+8888) > 100*100:\n",
    "    print(\"\\\"A dog\\\" is smaller than \\\"A mouse\\\" and 9999+8888 is larger than 100*100s\")\n",
    "elif len(\"A dog\")>len(\"A mouse\") and (9999+8888) < 100*100:\n",
    "    print(\"\\\"A dog\\\" is larger than \\\"A mouse\\\" and 9999+8888 is smaller than 100*100s\")\n",
    "elif len(\"A dog\")<len(\"A mouse\") and (9999+8888) < 100*100:\n",
    "    print(\"\\\"A dog\\\" is smaller than \\\"A mouse\\\" and 9999+8888 is smaller than 100*100s\")\n"
   ]
  },
  {
   "cell_type": "markdown",
   "id": "b9c27ad4",
   "metadata": {},
   "source": [
    "**Problem 4:**\n",
    "If a filesystem has a block size of 4096 bytes, this means that a file comprised of only one byte will still use 4096 bytes of storage. A file made up of 4097 bytes will use 4096*2=8192 bytes of storage. Knowing this, can you fill in the gaps in the calculate_storage function below, which calculates the total number of bytes needed to store a file of a given size?"
   ]
  }
 ],
 "metadata": {
  "kernelspec": {
   "display_name": "Python 3 (ipykernel)",
   "language": "python",
   "name": "python3"
  },
  "language_info": {
   "codemirror_mode": {
    "name": "ipython",
    "version": 3
   },
   "file_extension": ".py",
   "mimetype": "text/x-python",
   "name": "python",
   "nbconvert_exporter": "python",
   "pygments_lexer": "ipython3",
   "version": "3.9.13"
  }
 },
 "nbformat": 4,
 "nbformat_minor": 5
}
