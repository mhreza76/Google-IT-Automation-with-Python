{
 "cells": [
  {
   "cell_type": "markdown",
   "id": "33372992",
   "metadata": {},
   "source": [
    "## Module 3 Graded Assessment"
   ]
  },
  {
   "cell_type": "markdown",
   "id": "430f5d5d",
   "metadata": {},
   "source": [
    "**Problem 1:** Fill in the blanks of this code to print out the numbers 1 through 7."
   ]
  },
  {
   "cell_type": "code",
   "execution_count": 1,
   "id": "0e470489",
   "metadata": {},
   "outputs": [
    {
     "name": "stdout",
     "output_type": "stream",
     "text": [
      "1 2 3 4 5 6 "
     ]
    }
   ],
   "source": [
    "number = 1\n",
    "while number < 7:\n",
    "\tprint(number, end=\" \")\n",
    "\tnumber += 1"
   ]
  },
  {
   "cell_type": "markdown",
   "id": "67a129f1",
   "metadata": {},
   "source": [
    "**Problem 2:** The show_letters function should print out each letter of a word on a separate line. Fill in the blanks to make that happen."
   ]
  },
  {
   "cell_type": "code",
   "execution_count": 3,
   "id": "2ca6395d",
   "metadata": {},
   "outputs": [
    {
     "name": "stdout",
     "output_type": "stream",
     "text": [
      "H\n",
      "e\n",
      "l\n",
      "l\n",
      "o\n"
     ]
    }
   ],
   "source": [
    "def show_letters(word):\n",
    "\tfor letter in word:\n",
    "\t\tprint(letter)\n",
    "\n",
    "show_letters(\"Hello\")\n",
    "# Should print one line per letter"
   ]
  },
  {
   "cell_type": "markdown",
   "id": "7801aebf",
   "metadata": {},
   "source": [
    "**Problem 3:** Complete the function digits(n) that returns how many digits the number has. For example: 25 has 2 digits and 144 has 3 digits. Tip: you can figure out the digits of a number by dividing it by 10 once per digit until there are no digits left."
   ]
  },
  {
   "cell_type": "code",
   "execution_count": 4,
   "id": "a070bcc9",
   "metadata": {},
   "outputs": [
    {
     "name": "stdout",
     "output_type": "stream",
     "text": [
      "2\n",
      "3\n",
      "4\n",
      "1\n"
     ]
    }
   ],
   "source": [
    "def digits(n):\n",
    "\tcount = 0\n",
    "\tif n == 0:\n",
    "\t  return 1\n",
    "\twhile (n>=1):\n",
    "\t\tcount += 1\n",
    "\t\tn = n//10\n",
    "\treturn count\n",
    "\t\n",
    "print(digits(25))   # Should print 2\n",
    "print(digits(144))  # Should print 3\n",
    "print(digits(1000)) # Should print 4\n",
    "print(digits(0))    # Should print 1"
   ]
  },
  {
   "cell_type": "markdown",
   "id": "f11a9aab",
   "metadata": {},
   "source": [
    "**Problem 4:** This function prints out a multiplication table (where each number is the result of multiplying the first number of its row by the number at the top of its column). Fill in the blanks so that calling multiplication_table(1, 3) will print out:\n",
    "\n",
    "1 2 3 \n",
    "\n",
    "2 4 6 \n",
    "\n",
    "3 6 9"
   ]
  },
  {
   "cell_type": "code",
   "execution_count": 5,
   "id": "a8325cfd",
   "metadata": {},
   "outputs": [
    {
     "name": "stdout",
     "output_type": "stream",
     "text": [
      "1 2 3 \n",
      "2 4 6 \n",
      "3 6 9 \n"
     ]
    }
   ],
   "source": [
    "def multiplication_table(start, stop):\n",
    "\tfor x in range (start, stop+1):\n",
    "\t\tfor y in range (start, stop+1):\n",
    "\t\t\tprint(str(x*y), end=\" \")\n",
    "\t\tprint()\n",
    "\n",
    "multiplication_table(1, 3)\n",
    "# Should print the multiplication table shown above"
   ]
  },
  {
   "cell_type": "markdown",
   "id": "8e382521",
   "metadata": {},
   "source": [
    "**Problem 5:** The counter function counts down from start to stop when start is bigger than stop, and counts up from start to stop otherwise. Fill in the blanks to make this work correctly."
   ]
  },
  {
   "cell_type": "code",
   "execution_count": 10,
   "id": "01f422ad",
   "metadata": {},
   "outputs": [
    {
     "name": "stdout",
     "output_type": "stream",
     "text": [
      "Counting up: 1,2,3,4,5,6,7,8,9,10\n",
      "Counting down: 2,1\n",
      "Counting up: 5\n"
     ]
    }
   ],
   "source": [
    "def counter(start, stop):\n",
    "    x = start\n",
    "    if start > stop:\n",
    "        return_string = \"Counting down: \"\n",
    "        while x >= stop:\n",
    "            return_string += str(x)\n",
    "            if x != stop:\n",
    "                return_string += \",\"\n",
    "            x -= 1\n",
    "    else:\n",
    "        return_string = \"Counting up: \"\n",
    "        while x <= stop:\n",
    "            return_string += str(x)\n",
    "            if x != stop:\n",
    "                return_string += \",\"\n",
    "            x += 1\n",
    "    return return_string\n",
    "print(counter(1, 10)) # Should be \"Counting up: 1,2,3,4,5,6,7,8,9,10\"\n",
    "print(counter(2, 1)) # Should be \"Counting down: 2,1\"\n",
    "print(counter(5, 5)) # Should be \"Counting up: 5\""
   ]
  },
  {
   "cell_type": "markdown",
   "id": "0376e874",
   "metadata": {},
   "source": [
    "**Problem 6:** The even_numbers function returns a space-separated string of all positive numbers that are divisible by 2, up to and including the maximum that's passed into the function. For example, even_numbers(6) returns “2 4 6”. Fill in the blank to make this work."
   ]
  },
  {
   "cell_type": "code",
   "execution_count": 11,
   "id": "56158a78",
   "metadata": {},
   "outputs": [
    {
     "name": "stdout",
     "output_type": "stream",
     "text": [
      "2 4 6\n",
      "2 4 6 8 10\n",
      "\n",
      "2\n",
      "\n"
     ]
    }
   ],
   "source": [
    "def even_numbers(maximum):\n",
    "\treturn_string = \"\"\n",
    "\tfor x in range(2, maximum+1, 2):\n",
    "\t\treturn_string += str(x) + \" \"\n",
    "\treturn return_string.strip()\n",
    "\n",
    "print(even_numbers(6))  # Should be 2 4 6\n",
    "print(even_numbers(10)) # Should be 2 4 6 8 10\n",
    "print(even_numbers(1))  # No numbers displayed\n",
    "print(even_numbers(3))  # Should be 2\n",
    "print(even_numbers(0))  # No numbers displayed"
   ]
  },
  {
   "cell_type": "markdown",
   "id": "2e2d9d55",
   "metadata": {},
   "source": [
    "**Problem 7:** What is the value of x at the end of the following code?"
   ]
  },
  {
   "cell_type": "code",
   "execution_count": 12,
   "id": "76628b65",
   "metadata": {},
   "outputs": [
    {
     "name": "stdout",
     "output_type": "stream",
     "text": [
      "1\n",
      "4\n",
      "7\n"
     ]
    }
   ],
   "source": [
    "for x in range(1, 10, 3):\n",
    "    print(x)"
   ]
  },
  {
   "cell_type": "markdown",
   "id": "4d8d8cf9",
   "metadata": {},
   "source": [
    "**Problem 8:** What is the value of y at the end of the following code?"
   ]
  },
  {
   "cell_type": "code",
   "execution_count": 15,
   "id": "0a888093",
   "metadata": {},
   "outputs": [
    {
     "name": "stdout",
     "output_type": "stream",
     "text": [
      "0\n",
      "0\n",
      "1\n",
      "0\n",
      "1\n",
      "2\n",
      "0\n",
      "1\n",
      "2\n",
      "3\n",
      "0\n",
      "1\n",
      "2\n",
      "3\n",
      "4\n",
      "0\n",
      "1\n",
      "2\n",
      "3\n",
      "4\n",
      "5\n",
      "0\n",
      "1\n",
      "2\n",
      "3\n",
      "4\n",
      "5\n",
      "6\n",
      "0\n",
      "1\n",
      "2\n",
      "3\n",
      "4\n",
      "5\n",
      "6\n",
      "7\n",
      "0\n",
      "1\n",
      "2\n",
      "3\n",
      "4\n",
      "5\n",
      "6\n",
      "7\n",
      "8\n"
     ]
    }
   ],
   "source": [
    "for x in range(10):\n",
    "    for y in range(x):\n",
    "        print(y)"
   ]
  },
  {
   "cell_type": "markdown",
   "id": "2c57aaf2",
   "metadata": {},
   "source": [
    "**Problem 9:** How does this function need to be called to print yes, no, and maybe as possible options to vote for?"
   ]
  },
  {
   "cell_type": "code",
   "execution_count": 16,
   "id": "842a49ab",
   "metadata": {},
   "outputs": [],
   "source": [
    "def votes(params):\n",
    "    for vote in params:\n",
    "        print(\"Possible option:\" + vote)"
   ]
  },
  {
   "cell_type": "code",
   "execution_count": null,
   "id": "e41b0474",
   "metadata": {},
   "outputs": [],
   "source": []
  }
 ],
 "metadata": {
  "kernelspec": {
   "display_name": "Python 3 (ipykernel)",
   "language": "python",
   "name": "python3"
  },
  "language_info": {
   "codemirror_mode": {
    "name": "ipython",
    "version": 3
   },
   "file_extension": ".py",
   "mimetype": "text/x-python",
   "name": "python",
   "nbconvert_exporter": "python",
   "pygments_lexer": "ipython3",
   "version": "3.9.13"
  }
 },
 "nbformat": 4,
 "nbformat_minor": 5
}
